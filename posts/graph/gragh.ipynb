{
  "cells": [
    {
      "cell_type": "raw",
      "metadata": {},
      "source": [
        "---\n",
        "title: gragh\n",
        "author: 정은서\n",
        "format: html\n",
        "editor: visual\n",
        "---"
      ],
      "id": "d0dd3727"
    },
    {
      "cell_type": "markdown",
      "metadata": {},
      "source": [
        "## 빈도 막대 그래프 그리기\n"
      ],
      "id": "135d838f"
    },
    {
      "cell_type": "code",
      "metadata": {},
      "source": [
        "import pandas as pd\n",
        "import matplotlib.pyplot as plt\n",
        "import seaborn as sns\n",
        "import plotly.express as px\n",
        "\n",
        "mpg = pd.read_csv('data/mpg.csv')\n",
        "mpg.shape"
      ],
      "id": "d29a30f2",
      "execution_count": null,
      "outputs": []
    },
    {
      "cell_type": "markdown",
      "metadata": {},
      "source": [
        "### scatter() 사용한 산점도\n",
        "\n",
        "### plotly를 사용한 산점도\n"
      ],
      "id": "3e3554d3"
    },
    {
      "cell_type": "code",
      "metadata": {},
      "source": [
        "px.scatter(data_frame = mpg, x = \"displ\" , y=\"hwy\", color = \"drv\")"
      ],
      "id": "671effe9",
      "execution_count": null,
      "outputs": []
    },
    {
      "cell_type": "markdown",
      "metadata": {},
      "source": [
        "### barplot() 사용하기\n",
        "\n",
        "\n",
        "### groupby , barplot() 사용하기\n"
      ],
      "id": "a9977b3c"
    },
    {
      "cell_type": "code",
      "metadata": {},
      "source": [
        "df_mpg = mpg.groupby('drv', as_index=False).agg(mean_hwy = ('hwy', 'mean'))\n",
        "df_mpg = df_mpg.sort_values('mean_hwy')"
      ],
      "id": "fa8f3def",
      "execution_count": null,
      "outputs": []
    },
    {
      "cell_type": "code",
      "metadata": {},
      "source": [
        "sns.barplot(data = df_mpg, x='drv', y='mean_hwy')"
      ],
      "id": "8e0ebaf1",
      "execution_count": null,
      "outputs": []
    }
  ],
  "metadata": {
    "kernelspec": {
      "name": "python3",
      "language": "python",
      "display_name": "Python 3 (ipykernel)"
    }
  },
  "nbformat": 4,
  "nbformat_minor": 5
}